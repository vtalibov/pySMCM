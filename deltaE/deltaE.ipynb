{
 "cells": [
  {
   "cell_type": "code",
   "execution_count": 1,
   "metadata": {},
   "outputs": [],
   "source": [
    "import sys\n",
    "import matplotlib.pyplot as plt\n",
    "import numpy as np\n",
    "from rdkit import Chem\n",
    "from rdkit.Chem import AllChem\n",
    "from rdkit.Chem import Draw\n",
    "from rdkit.Chem.Draw import IPythonConsole"
   ]
  },
  {
   "cell_type": "code",
   "execution_count": 3,
   "metadata": {},
   "outputs": [],
   "source": [
    "# uses several functions from pyPMIscore (generation of conformers, energy minimization)\n",
    "sys.path.append('../pyPMIscore')\n",
    "from pyPMIscore import mmff_opt_confs"
   ]
  },
  {
   "cell_type": "code",
   "execution_count": 4,
   "metadata": {},
   "outputs": [],
   "source": [
    "# selected_set.sdf - 500 protein-bound structures of fragment-like small molecules,\n",
    "# extracted from PDB Ligand Expo as a ECFP4-based diversity set. Just for the test."
   ]
  },
  {
   "cell_type": "code",
   "execution_count": 5,
   "metadata": {},
   "outputs": [],
   "source": [
    "lib = Chem.SDMolSupplier('selected_set.sdf')"
   ]
  },
  {
   "cell_type": "code",
   "execution_count": 6,
   "metadata": {},
   "outputs": [],
   "source": [
    "def conformer_energy(mol):\n",
    "    '''Minimizes conformation and returns its energy.\n",
    "    Dangerous! Very poor exception handling'''\n",
    "    try:\n",
    "        mol_ff_param = AllChem.MMFFGetMoleculeProperties(mol)\n",
    "        ff = AllChem.MMFFGetMoleculeForceField(mol, mol_ff_param)\n",
    "        convergence = ff.Minimize(maxIts=1000)\n",
    "        min_energy = ff.CalcEnergy()\n",
    "        if convergence != 0:\n",
    "            min_energy = None\n",
    "        return min_energy\n",
    "    except:\n",
    "        pass"
   ]
  },
  {
   "cell_type": "code",
   "execution_count": 7,
   "metadata": {},
   "outputs": [],
   "source": [
    "lib_deltaE = list()\n",
    "for mol in lib:\n",
    "    molh = Chem.AddHs(mol, addCoords = True)\n",
    "    energy = conformer_energy(molh)\n",
    "    if energy is None:\n",
    "        continue\n",
    "    else:\n",
    "        lib_deltaE.append(energy - min(mmff_opt_confs(molh)[1])[1])"
   ]
  },
  {
   "cell_type": "code",
   "execution_count": 10,
   "metadata": {},
   "outputs": [
    {
     "data": {
      "text/plain": [
       "Text(0.5, 0, 'Energy (kcal/mol)')"
      ]
     },
     "execution_count": 10,
     "metadata": {},
     "output_type": "execute_result"
    },
    {
     "data": {
      "image/png": "[encoded data removed]",
      "text/plain": [
       "<Figure size 432x288 with 1 Axes>"
      ]
     },
     "metadata": {
      "needs_background": "light"
     },
     "output_type": "display_data"
    }
   ],
   "source": [
    "plt.rcParams.update({'font.size': 16})\n",
    "plt.hist(lib_deltaE, bins=8)\n",
    "plt.ylabel(\"Fragments\")\n",
    "plt.xlabel(\"Energy (kcal/mol)\")"
   ]
  },
  {
   "cell_type": "code",
   "execution_count": 11,
   "metadata": {},
   "outputs": [
    {
     "data": {
      "text/plain": [
       "493"
      ]
     },
     "execution_count": 11,
     "metadata": {},
     "output_type": "execute_result"
    }
   ],
   "source": [
    "len(lib_deltaE)"
   ]
  },
  {
   "cell_type": "code",
   "execution_count": 12,
   "metadata": {
    "scrolled": false
   },
   "outputs": [
    {
     "name": "stdout",
     "output_type": "stream",
     "text": [
      "-0.409744920883753 9.195634621019336\n"
     ]
    }
   ],
   "source": [
    "print(np.percentile(lib_deltaE, 5),np.percentile(lib_deltaE, 95)) # 90% of conformers"
   ]
  },
  {
   "cell_type": "code",
   "execution_count": 13,
   "metadata": {},
   "outputs": [],
   "source": [
    "# looking for exceptional cases - e.g. deltaE bellow 0 or significantly above 10 kcal/mol.\n",
    "# curious to see how do they look!\n",
    "import pandas as pd"
   ]
  },
  {
   "cell_type": "code",
   "execution_count": 57,
   "metadata": {},
   "outputs": [],
   "source": [
    "df = pd.DataFrame()"
   ]
  },
  {
   "cell_type": "code",
   "execution_count": 58,
   "metadata": {},
   "outputs": [
    {
     "name": "stderr",
     "output_type": "stream",
     "text": [
      "RDKit ERROR: [10:18:51] UFFTYPER: Unrecognized atom type: Se2+2 (6)\n",
      "RDKit ERROR: [10:19:21] UFFTYPER: Unrecognized atom type: Se2+2 (0)\n",
      "RDKit ERROR: [10:19:21] UFFTYPER: Unrecognized atom type: Se2+2 (1)\n",
      "RDKit ERROR: [10:19:46] UFFTYPER: Unrecognized charge state for atom: 10\n"
     ]
    }
   ],
   "source": [
    "df[\"Mol\"] = [Chem.AddHs(mol, addCoords = True) for mol in lib]\n",
    "df[\"Bound conf. energy\"] = [conformer_energy(mol) for mol in df[\"Mol\"]]\n",
    "df[\"Conformers\"] = [mmff_opt_confs(mol) for mol in df[\"Mol\"]]"
   ]
  },
  {
   "cell_type": "code",
   "execution_count": 59,
   "metadata": {},
   "outputs": [
    {
     "data": {
      "text/html": [
       "<div>\n",
       "<style scoped>\n",
       "    .dataframe tbody tr th:only-of-type {\n",
       "        vertical-align: middle;\n",
       "    }\n",
       "\n",
       "    .dataframe tbody tr th {\n",
       "        vertical-align: top;\n",
       "    }\n",
       "\n",
       "    .dataframe thead th {\n",
       "        text-align: right;\n",
       "    }\n",
       "</style>\n",
       "<table border=\"1\" class=\"dataframe\">\n",
       "  <thead>\n",
       "    <tr style=\"text-align: right;\">\n",
       "      <th></th>\n",
       "      <th>Mol</th>\n",
       "      <th>Bound conf. energy</th>\n",
       "      <th>Conformers</th>\n",
       "    </tr>\n",
       "  </thead>\n",
       "  <tbody>\n",
       "    <tr>\n",
       "      <th>0</th>\n",
       "      <td>&lt;rdkit.Chem.rdchem.Mol object at 0x7f66b2285260&gt;</td>\n",
       "      <td>37.319144</td>\n",
       "      <td>(&lt;rdkit.Chem.rdchem.Mol object at 0x7f66b22852...</td>\n",
       "    </tr>\n",
       "    <tr>\n",
       "      <th>1</th>\n",
       "      <td>&lt;rdkit.Chem.rdchem.Mol object at 0x7f66b2285210&gt;</td>\n",
       "      <td>-21.818713</td>\n",
       "      <td>(&lt;rdkit.Chem.rdchem.Mol object at 0x7f66b22852...</td>\n",
       "    </tr>\n",
       "    <tr>\n",
       "      <th>2</th>\n",
       "      <td>&lt;rdkit.Chem.rdchem.Mol object at 0x7f66b22852b0&gt;</td>\n",
       "      <td>-138.469760</td>\n",
       "      <td>(&lt;rdkit.Chem.rdchem.Mol object at 0x7f66b22852...</td>\n",
       "    </tr>\n",
       "    <tr>\n",
       "      <th>3</th>\n",
       "      <td>&lt;rdkit.Chem.rdchem.Mol object at 0x7f66b2285300&gt;</td>\n",
       "      <td>1.362394</td>\n",
       "      <td>(&lt;rdkit.Chem.rdchem.Mol object at 0x7f66b22853...</td>\n",
       "    </tr>\n",
       "    <tr>\n",
       "      <th>4</th>\n",
       "      <td>&lt;rdkit.Chem.rdchem.Mol object at 0x7f66b2285350&gt;</td>\n",
       "      <td>48.212889</td>\n",
       "      <td>(&lt;rdkit.Chem.rdchem.Mol object at 0x7f66b22853...</td>\n",
       "    </tr>\n",
       "    <tr>\n",
       "      <th>...</th>\n",
       "      <td>...</td>\n",
       "      <td>...</td>\n",
       "      <td>...</td>\n",
       "    </tr>\n",
       "    <tr>\n",
       "      <th>495</th>\n",
       "      <td>&lt;rdkit.Chem.rdchem.Mol object at 0x7f66b22a70d0&gt;</td>\n",
       "      <td>112.488079</td>\n",
       "      <td>(&lt;rdkit.Chem.rdchem.Mol object at 0x7f66b22a70...</td>\n",
       "    </tr>\n",
       "    <tr>\n",
       "      <th>496</th>\n",
       "      <td>&lt;rdkit.Chem.rdchem.Mol object at 0x7f66b22a7120&gt;</td>\n",
       "      <td>0.299370</td>\n",
       "      <td>(&lt;rdkit.Chem.rdchem.Mol object at 0x7f66b22a71...</td>\n",
       "    </tr>\n",
       "    <tr>\n",
       "      <th>497</th>\n",
       "      <td>&lt;rdkit.Chem.rdchem.Mol object at 0x7f66b22a7170&gt;</td>\n",
       "      <td>59.926607</td>\n",
       "      <td>(&lt;rdkit.Chem.rdchem.Mol object at 0x7f66b22a71...</td>\n",
       "    </tr>\n",
       "    <tr>\n",
       "      <th>498</th>\n",
       "      <td>&lt;rdkit.Chem.rdchem.Mol object at 0x7f66b22a71c0&gt;</td>\n",
       "      <td>-45.017681</td>\n",
       "      <td>(&lt;rdkit.Chem.rdchem.Mol object at 0x7f66b22a71...</td>\n",
       "    </tr>\n",
       "    <tr>\n",
       "      <th>499</th>\n",
       "      <td>&lt;rdkit.Chem.rdchem.Mol object at 0x7f66b22a7210&gt;</td>\n",
       "      <td>18.265545</td>\n",
       "      <td>(&lt;rdkit.Chem.rdchem.Mol object at 0x7f66b22a72...</td>\n",
       "    </tr>\n",
       "  </tbody>\n",
       "</table>\n",
       "<p>500 rows × 3 columns</p>\n",
       "</div>"
      ],
      "text/plain": [
       "                                                  Mol  Bound conf. energy  \\\n",
       "0    <rdkit.Chem.rdchem.Mol object at 0x7f66b2285260>           37.319144   \n",
       "1    <rdkit.Chem.rdchem.Mol object at 0x7f66b2285210>          -21.818713   \n",
       "2    <rdkit.Chem.rdchem.Mol object at 0x7f66b22852b0>         -138.469760   \n",
       "3    <rdkit.Chem.rdchem.Mol object at 0x7f66b2285300>            1.362394   \n",
       "4    <rdkit.Chem.rdchem.Mol object at 0x7f66b2285350>           48.212889   \n",
       "..                                                ...                 ...   \n",
       "495  <rdkit.Chem.rdchem.Mol object at 0x7f66b22a70d0>          112.488079   \n",
       "496  <rdkit.Chem.rdchem.Mol object at 0x7f66b22a7120>            0.299370   \n",
       "497  <rdkit.Chem.rdchem.Mol object at 0x7f66b22a7170>           59.926607   \n",
       "498  <rdkit.Chem.rdchem.Mol object at 0x7f66b22a71c0>          -45.017681   \n",
       "499  <rdkit.Chem.rdchem.Mol object at 0x7f66b22a7210>           18.265545   \n",
       "\n",
       "                                            Conformers  \n",
       "0    (<rdkit.Chem.rdchem.Mol object at 0x7f66b22852...  \n",
       "1    (<rdkit.Chem.rdchem.Mol object at 0x7f66b22852...  \n",
       "2    (<rdkit.Chem.rdchem.Mol object at 0x7f66b22852...  \n",
       "3    (<rdkit.Chem.rdchem.Mol object at 0x7f66b22853...  \n",
       "4    (<rdkit.Chem.rdchem.Mol object at 0x7f66b22853...  \n",
       "..                                                 ...  \n",
       "495  (<rdkit.Chem.rdchem.Mol object at 0x7f66b22a70...  \n",
       "496  (<rdkit.Chem.rdchem.Mol object at 0x7f66b22a71...  \n",
       "497  (<rdkit.Chem.rdchem.Mol object at 0x7f66b22a71...  \n",
       "498  (<rdkit.Chem.rdchem.Mol object at 0x7f66b22a71...  \n",
       "499  (<rdkit.Chem.rdchem.Mol object at 0x7f66b22a72...  \n",
       "\n",
       "[500 rows x 3 columns]"
      ]
     },
     "execution_count": 59,
     "metadata": {},
     "output_type": "execute_result"
    }
   ],
   "source": [
    "df"
   ]
  },
  {
   "cell_type": "code",
   "execution_count": 74,
   "metadata": {},
   "outputs": [],
   "source": [
    "df[\"Energy\"] = [df[\"Bound conf. energy\"][i] - min(df[\"Conformers\"][i][1])[1] for i in range(len(df))]"
   ]
  },
  {
   "cell_type": "code",
   "execution_count": 75,
   "metadata": {},
   "outputs": [
    {
     "data": {
      "text/html": [
       "<div>\n",
       "<style scoped>\n",
       "    .dataframe tbody tr th:only-of-type {\n",
       "        vertical-align: middle;\n",
       "    }\n",
       "\n",
       "    .dataframe tbody tr th {\n",
       "        vertical-align: top;\n",
       "    }\n",
       "\n",
       "    .dataframe thead th {\n",
       "        text-align: right;\n",
       "    }\n",
       "</style>\n",
       "<table border=\"1\" class=\"dataframe\">\n",
       "  <thead>\n",
       "    <tr style=\"text-align: right;\">\n",
       "      <th></th>\n",
       "      <th>Mol</th>\n",
       "      <th>Bound conf. energy</th>\n",
       "      <th>Conformers</th>\n",
       "      <th>Energy</th>\n",
       "    </tr>\n",
       "  </thead>\n",
       "  <tbody>\n",
       "    <tr>\n",
       "      <th>0</th>\n",
       "      <td>&lt;rdkit.Chem.rdchem.Mol object at 0x7f66b2285260&gt;</td>\n",
       "      <td>37.319144</td>\n",
       "      <td>(&lt;rdkit.Chem.rdchem.Mol object at 0x7f66b22852...</td>\n",
       "      <td>1.536107e+00</td>\n",
       "    </tr>\n",
       "    <tr>\n",
       "      <th>1</th>\n",
       "      <td>&lt;rdkit.Chem.rdchem.Mol object at 0x7f66b2285210&gt;</td>\n",
       "      <td>-21.818713</td>\n",
       "      <td>(&lt;rdkit.Chem.rdchem.Mol object at 0x7f66b22852...</td>\n",
       "      <td>6.627715e+00</td>\n",
       "    </tr>\n",
       "    <tr>\n",
       "      <th>2</th>\n",
       "      <td>&lt;rdkit.Chem.rdchem.Mol object at 0x7f66b22852b0&gt;</td>\n",
       "      <td>-138.469760</td>\n",
       "      <td>(&lt;rdkit.Chem.rdchem.Mol object at 0x7f66b22852...</td>\n",
       "      <td>6.301870e+00</td>\n",
       "    </tr>\n",
       "    <tr>\n",
       "      <th>3</th>\n",
       "      <td>&lt;rdkit.Chem.rdchem.Mol object at 0x7f66b2285300&gt;</td>\n",
       "      <td>1.362394</td>\n",
       "      <td>(&lt;rdkit.Chem.rdchem.Mol object at 0x7f66b22853...</td>\n",
       "      <td>3.366733e+00</td>\n",
       "    </tr>\n",
       "    <tr>\n",
       "      <th>4</th>\n",
       "      <td>&lt;rdkit.Chem.rdchem.Mol object at 0x7f66b2285350&gt;</td>\n",
       "      <td>48.212889</td>\n",
       "      <td>(&lt;rdkit.Chem.rdchem.Mol object at 0x7f66b22853...</td>\n",
       "      <td>2.797244e-02</td>\n",
       "    </tr>\n",
       "    <tr>\n",
       "      <th>...</th>\n",
       "      <td>...</td>\n",
       "      <td>...</td>\n",
       "      <td>...</td>\n",
       "      <td>...</td>\n",
       "    </tr>\n",
       "    <tr>\n",
       "      <th>495</th>\n",
       "      <td>&lt;rdkit.Chem.rdchem.Mol object at 0x7f66b22a70d0&gt;</td>\n",
       "      <td>112.488079</td>\n",
       "      <td>(&lt;rdkit.Chem.rdchem.Mol object at 0x7f66b22a70...</td>\n",
       "      <td>-2.952301e-08</td>\n",
       "    </tr>\n",
       "    <tr>\n",
       "      <th>496</th>\n",
       "      <td>&lt;rdkit.Chem.rdchem.Mol object at 0x7f66b22a7120&gt;</td>\n",
       "      <td>0.299370</td>\n",
       "      <td>(&lt;rdkit.Chem.rdchem.Mol object at 0x7f66b22a71...</td>\n",
       "      <td>4.046974e+00</td>\n",
       "    </tr>\n",
       "    <tr>\n",
       "      <th>497</th>\n",
       "      <td>&lt;rdkit.Chem.rdchem.Mol object at 0x7f66b22a7170&gt;</td>\n",
       "      <td>59.926607</td>\n",
       "      <td>(&lt;rdkit.Chem.rdchem.Mol object at 0x7f66b22a71...</td>\n",
       "      <td>-2.625889e-09</td>\n",
       "    </tr>\n",
       "    <tr>\n",
       "      <th>498</th>\n",
       "      <td>&lt;rdkit.Chem.rdchem.Mol object at 0x7f66b22a71c0&gt;</td>\n",
       "      <td>-45.017681</td>\n",
       "      <td>(&lt;rdkit.Chem.rdchem.Mol object at 0x7f66b22a71...</td>\n",
       "      <td>3.604544e+00</td>\n",
       "    </tr>\n",
       "    <tr>\n",
       "      <th>499</th>\n",
       "      <td>&lt;rdkit.Chem.rdchem.Mol object at 0x7f66b22a7210&gt;</td>\n",
       "      <td>18.265545</td>\n",
       "      <td>(&lt;rdkit.Chem.rdchem.Mol object at 0x7f66b22a72...</td>\n",
       "      <td>-6.260521e-10</td>\n",
       "    </tr>\n",
       "  </tbody>\n",
       "</table>\n",
       "<p>500 rows × 4 columns</p>\n",
       "</div>"
      ],
      "text/plain": [
       "                                                  Mol  Bound conf. energy  \\\n",
       "0    <rdkit.Chem.rdchem.Mol object at 0x7f66b2285260>           37.319144   \n",
       "1    <rdkit.Chem.rdchem.Mol object at 0x7f66b2285210>          -21.818713   \n",
       "2    <rdkit.Chem.rdchem.Mol object at 0x7f66b22852b0>         -138.469760   \n",
       "3    <rdkit.Chem.rdchem.Mol object at 0x7f66b2285300>            1.362394   \n",
       "4    <rdkit.Chem.rdchem.Mol object at 0x7f66b2285350>           48.212889   \n",
       "..                                                ...                 ...   \n",
       "495  <rdkit.Chem.rdchem.Mol object at 0x7f66b22a70d0>          112.488079   \n",
       "496  <rdkit.Chem.rdchem.Mol object at 0x7f66b22a7120>            0.299370   \n",
       "497  <rdkit.Chem.rdchem.Mol object at 0x7f66b22a7170>           59.926607   \n",
       "498  <rdkit.Chem.rdchem.Mol object at 0x7f66b22a71c0>          -45.017681   \n",
       "499  <rdkit.Chem.rdchem.Mol object at 0x7f66b22a7210>           18.265545   \n",
       "\n",
       "                                            Conformers        Energy  \n",
       "0    (<rdkit.Chem.rdchem.Mol object at 0x7f66b22852...  1.536107e+00  \n",
       "1    (<rdkit.Chem.rdchem.Mol object at 0x7f66b22852...  6.627715e+00  \n",
       "2    (<rdkit.Chem.rdchem.Mol object at 0x7f66b22852...  6.301870e+00  \n",
       "3    (<rdkit.Chem.rdchem.Mol object at 0x7f66b22853...  3.366733e+00  \n",
       "4    (<rdkit.Chem.rdchem.Mol object at 0x7f66b22853...  2.797244e-02  \n",
       "..                                                 ...           ...  \n",
       "495  (<rdkit.Chem.rdchem.Mol object at 0x7f66b22a70... -2.952301e-08  \n",
       "496  (<rdkit.Chem.rdchem.Mol object at 0x7f66b22a71...  4.046974e+00  \n",
       "497  (<rdkit.Chem.rdchem.Mol object at 0x7f66b22a71... -2.625889e-09  \n",
       "498  (<rdkit.Chem.rdchem.Mol object at 0x7f66b22a71...  3.604544e+00  \n",
       "499  (<rdkit.Chem.rdchem.Mol object at 0x7f66b22a72... -6.260521e-10  \n",
       "\n",
       "[500 rows x 4 columns]"
      ]
     },
     "execution_count": 75,
     "metadata": {},
     "output_type": "execute_result"
    }
   ],
   "source": [
    "df"
   ]
  },
  {
   "cell_type": "code",
   "execution_count": 85,
   "metadata": {},
   "outputs": [
    {
     "data": {
      "text/plain": [
       "243"
      ]
     },
     "execution_count": 85,
     "metadata": {},
     "output_type": "execute_result"
    }
   ],
   "source": [
    "df[\"Energy\"].idxmax()"
   ]
  },
  {
   "cell_type": "code",
   "execution_count": 86,
   "metadata": {
    "scrolled": true
   },
   "outputs": [
    {
     "data": {
      "image/png": "[encoded data removed]",
      "text/plain": [
       "<rdkit.Chem.rdchem.Mol at 0x7f66b2296030>"
      ]
     },
     "execution_count": 86,
     "metadata": {},
     "output_type": "execute_result"
    }
   ],
   "source": [
    "df[\"Mol\"][243]"
   ]
  },
  {
   "cell_type": "code",
   "execution_count": 87,
   "metadata": {},
   "outputs": [
    {
     "data": {
      "text/plain": [
       "(<rdkit.Chem.rdchem.Mol at 0x7f66b2296030>,\n",
       " [(1, -68.80324403112785),\n",
       "  (0, -65.75498533828107),\n",
       "  (1, -70.71287284224772),\n",
       "  (0, -64.31224593437415),\n",
       "  (1, -79.09241380141405),\n",
       "  (1, -86.27213104831118),\n",
       "  (1, -69.44848791081102),\n",
       "  (1, -69.90850705163521),\n",
       "  (1, -84.99383462206012),\n",
       "  (1, -66.01436609654078),\n",
       "  (1, -93.4013526408618),\n",
       "  (0, -69.37863245098703),\n",
       "  (1, -67.91244594842989),\n",
       "  (1, -84.29453191251851),\n",
       "  (0, -87.11626251897265),\n",
       "  (1, -67.87533681840824),\n",
       "  (1, -85.92548352713723),\n",
       "  (1, -89.53459026492872),\n",
       "  (1, -72.35112575496822),\n",
       "  (1, -65.64694456282905),\n",
       "  (1, -64.39705553760888),\n",
       "  (1, -88.05823914442229),\n",
       "  (0, -66.10001634212699),\n",
       "  (0, -64.45471704320616),\n",
       "  (0, -69.82616025021284),\n",
       "  (1, -75.11864820649716),\n",
       "  (1, -65.30702810514691)])"
      ]
     },
     "execution_count": 87,
     "metadata": {},
     "output_type": "execute_result"
    }
   ],
   "source": [
    "df[\"Conformers\"][243]"
   ]
  },
  {
   "cell_type": "code",
   "execution_count": 84,
   "metadata": {},
   "outputs": [
    {
     "name": "stderr",
     "output_type": "stream",
     "text": [
      "/mxn/home/vlatal/miniconda3/envs/fragmaxlib/lib/python3.6/site-packages/numpy/lib/histograms.py:839: RuntimeWarning: invalid value encountered in greater_equal\n",
      "  keep = (tmp_a >= first_edge)\n",
      "/mxn/home/vlatal/miniconda3/envs/fragmaxlib/lib/python3.6/site-packages/numpy/lib/histograms.py:840: RuntimeWarning: invalid value encountered in less_equal\n",
      "  keep &= (tmp_a <= last_edge)\n"
     ]
    },
    {
     "data": {
      "text/plain": [
       "Text(0.5, 0, 'Energy (kcal/mol)')"
      ]
     },
     "execution_count": 84,
     "metadata": {},
     "output_type": "execute_result"
    },
    {
     "data": {
      "image/png": "[encoded data removed]",
      "text/plain": [
       "<Figure size 432x288 with 1 Axes>"
      ]
     },
     "metadata": {
      "needs_background": "light"
     },
     "output_type": "display_data"
    }
   ],
   "source": [
    "plt.rcParams.update({'font.size': 16})\n",
    "plt.hist(df[\"Energy\"], bins=8)\n",
    "plt.ylabel(\"Fragments\")\n",
    "plt.xlabel(\"Energy (kcal/mol)\")"
   ]
  },
  {
   "cell_type": "code",
   "execution_count": 92,
   "metadata": {},
   "outputs": [],
   "source": [
    "# from pyPMIscore\n",
    "def embed_confs(mol, seed=10, numConfs=27):\n",
    "    ''' Embeds multiple conformations to a molecule,\n",
    "    returns a list of conformation IDs. If the molecule\n",
    "    is given as a SMILES string, rdkit.mol object is\n",
    "    created and hydrated.\n",
    "    '''\n",
    "    if type(mol) is str:\n",
    "        mol = Chem.AddHs(Chem.MolFromSmiles(mol), addCoords=True)\n",
    "\n",
    "    conformers = AllChem.EmbedMultipleConfs(mol, pruneRmsThresh=0.5, numConfs=numConfs, randomSeed=seed)\n",
    "    return list(conformers)"
   ]
  },
  {
   "cell_type": "code",
   "execution_count": 93,
   "metadata": {},
   "outputs": [],
   "source": [
    "# from pyPMIscore\n",
    "def mmff_opt_confs(mol, seed=10, numConfs=27):\n",
    "    ''' Performes MMFF'94 optiomization of embed conformations,\n",
    "    returns convergence and absolute energy value.\n",
    "    '''\n",
    "    embed_confs(mol, seed, numConfs)\n",
    "    energies = Chem.rdForceFieldHelpers.MMFFOptimizeMoleculeConfs(mol)\n",
    "    return mol, energies"
   ]
  },
  {
   "cell_type": "code",
   "execution_count": 94,
   "metadata": {},
   "outputs": [],
   "source": [
    "# from pyPMIscore\n",
    "def converged_conformers(mol, energies, cutoff=10):\n",
    "    '''Purges unconverged FF-optimized conformers,\n",
    "    returns mol and a table with conformer ID and its\n",
    "     minimized energy.\n",
    "    (rdchem.Mol, [(confID, energy),...])\n",
    "    '''\n",
    "    conf_n_energies = list()\n",
    "    for i in range(len(energies)):\n",
    "        if energies[i][0] == 0:\n",
    "            conf_n_energies.append((i, energies[i][1]))\n",
    "        else:\n",
    "            mol.RemoveConformer(i)\n",
    "    return mol, conf_n_energies"
   ]
  },
  {
   "cell_type": "code",
   "execution_count": 116,
   "metadata": {
    "scrolled": true
   },
   "outputs": [
    {
     "data": {
      "text/plain": [
       "(<rdkit.Chem.rdchem.Mol at 0x7f66b2296030>,\n",
       " [(0, -53.81586345514495),\n",
       "  (3, -52.60557789024921),\n",
       "  (5, -55.23747235676528),\n",
       "  (6, -53.06040926027336),\n",
       "  (9, -53.82246569163858),\n",
       "  (11, -52.06092171890303),\n",
       "  (13, -53.68469285154095),\n",
       "  (15, -56.02491388220922),\n",
       "  (17, -55.516550930365355),\n",
       "  (21, -55.25391768581105),\n",
       "  (22, -55.704644202702276),\n",
       "  (24, -54.64894412131084),\n",
       "  (25, -51.039704372032055)])"
      ]
     },
     "execution_count": 116,
     "metadata": {},
     "output_type": "execute_result"
    }
   ],
   "source": [
    "converged_conformers(mmff_opt_confs(df['Mol'][243], 20)[0], mmff_opt_confs(df['Mol'][243], 20)[1])"
   ]
  },
  {
   "cell_type": "code",
   "execution_count": 97,
   "metadata": {},
   "outputs": [],
   "source": [
    "mol = df['Mol'][243]"
   ]
  },
  {
   "cell_type": "code",
   "execution_count": 102,
   "metadata": {},
   "outputs": [],
   "source": [
    "L = mol.Cnfor"
   ]
  },
  {
   "cell_type": "code",
   "execution_count": 103,
   "metadata": {},
   "outputs": [
    {
     "data": {
      "text/plain": [
       "<rdkit.Chem.rdchem.Conformer at 0x7f66b04468a0>"
      ]
     },
     "execution_count": 103,
     "metadata": {},
     "output_type": "execute_result"
    }
   ],
   "source": [
    "L"
   ]
  },
  {
   "cell_type": "code",
   "execution_count": 104,
   "metadata": {},
   "outputs": [
    {
     "ename": "ArgumentError",
     "evalue": "Python argument types in\n    rdkit.Chem.rdmolfiles.MolToMolFile(Conformer, str)\ndid not match C++ signature:\n    MolToMolFile(RDKit::ROMol mol, std::string filename, bool includeStereo=False, int confId=-1, bool kekulize=True, bool forceV3000=False)",
     "output_type": "error",
     "traceback": [
      "\u001b[0;31m---------------------------------------------------------------------------\u001b[0m",
      "\u001b[0;31mArgumentError\u001b[0m                             Traceback (most recent call last)",
      "\u001b[0;32m<ipython-input-104-8231a73631f2>\u001b[0m in \u001b[0;36m<module>\u001b[0;34m\u001b[0m\n\u001b[0;32m----> 1\u001b[0;31m \u001b[0mChem\u001b[0m\u001b[0;34m.\u001b[0m\u001b[0mMolToMolFile\u001b[0m\u001b[0;34m(\u001b[0m\u001b[0mL\u001b[0m\u001b[0;34m,\u001b[0m \u001b[0;34m'foo.mol'\u001b[0m\u001b[0;34m)\u001b[0m\u001b[0;34m\u001b[0m\u001b[0;34m\u001b[0m\u001b[0m\n\u001b[0m",
      "\u001b[0;31mArgumentError\u001b[0m: Python argument types in\n    rdkit.Chem.rdmolfiles.MolToMolFile(Conformer, str)\ndid not match C++ signature:\n    MolToMolFile(RDKit::ROMol mol, std::string filename, bool includeStereo=False, int confId=-1, bool kekulize=True, bool forceV3000=False)"
     ]
    }
   ],
   "source": [
    "Chem.MolToMolFile(L, 'foo.mol')"
   ]
  },
  {
   "cell_type": "code",
   "execution_count": 106,
   "metadata": {},
   "outputs": [
    {
     "data": {
      "text/plain": [
       "15"
      ]
     },
     "execution_count": 106,
     "metadata": {},
     "output_type": "execute_result"
    }
   ],
   "source": [
    "mol.AddConformer(mol.GetConformer(15))"
   ]
  },
  {
   "cell_type": "code",
   "execution_count": 111,
   "metadata": {},
   "outputs": [],
   "source": [
    "mol.RemoveAllConformers()"
   ]
  },
  {
   "cell_type": "code",
   "execution_count": 112,
   "metadata": {},
   "outputs": [
    {
     "data": {
      "image/png": "[encoded data removed]",
      "text/plain": [
       "<rdkit.Chem.rdchem.Mol at 0x7f66b2296030>"
      ]
     },
     "execution_count": 112,
     "metadata": {},
     "output_type": "execute_result"
    }
   ],
   "source": [
    "mol"
   ]
  },
  {
   "cell_type": "code",
   "execution_count": 117,
   "metadata": {},
   "outputs": [
    {
     "data": {
      "image/png": "[encoded data removed]",
      "text/plain": [
       "<rdkit.Chem.rdchem.Mol at 0x7f66b2296030>"
      ]
     },
     "execution_count": 117,
     "metadata": {},
     "output_type": "execute_result"
    }
   ],
   "source": [
    "df[\"Mol\"][243]"
   ]
  },
  {
   "cell_type": "code",
   "execution_count": 120,
   "metadata": {},
   "outputs": [],
   "source": [
    "Chem.MolToMolFile(lib[243], \"foo.mol\")"
   ]
  },
  {
   "cell_type": "code",
   "execution_count": 119,
   "metadata": {},
   "outputs": [
    {
     "data": {
      "image/png": "[encoded data removed]",
      "text/plain": [
       "<rdkit.Chem.rdchem.Mol at 0x7f66af6aa120>"
      ]
     },
     "execution_count": 119,
     "metadata": {},
     "output_type": "execute_result"
    }
   ],
   "source": [
    "lib[243]"
   ]
  },
  {
   "cell_type": "code",
   "execution_count": 124,
   "metadata": {},
   "outputs": [
    {
     "data": {
      "text/plain": [
       "-54.60366093522748"
      ]
     },
     "execution_count": 124,
     "metadata": {},
     "output_type": "execute_result"
    }
   ],
   "source": [
    "conformer_energy(Chem.AddHs(lib[243]))"
   ]
  },
  {
   "cell_type": "code",
   "execution_count": 122,
   "metadata": {},
   "outputs": [
    {
     "data": {
      "image/png": "[encoded data removed]",
      "text/plain": [
       "<rdkit.Chem.rdchem.Mol at 0x7f66b05e6a80>"
      ]
     },
     "execution_count": 122,
     "metadata": {},
     "output_type": "execute_result"
    }
   ],
   "source": [
    "lib[243]"
   ]
  },
  {
   "cell_type": "code",
   "execution_count": null,
   "metadata": {},
   "outputs": [],
   "source": []
  }
 ],
 "metadata": {
  "kernelspec": {
   "display_name": "Python 3",
   "language": "python",
   "name": "python3"
  },
  "language_info": {
   "codemirror_mode": {
    "name": "ipython",
    "version": 3
   },
   "file_extension": ".py",
   "mimetype": "text/x-python",
   "name": "python",
   "nbconvert_exporter": "python",
   "pygments_lexer": "ipython3",
   "version": "3.7.0"
  }
 },
 "nbformat": 4,
 "nbformat_minor": 4
}

{
 "cells": [
  {
   "cell_type": "code",
   "execution_count": 28,
   "metadata": {},
   "outputs": [],
   "source": [
    "import sys\n",
    "import matplotlib.pyplot as plt\n",
    "import numpy as np\n",
    "from rdkit import Chem\n",
    "from rdkit.Chem import AllChem\n",
    "from rdkit.Chem import Draw\n",
    "from rdkit.Chem.Draw import IPythonConsole"
   ]
  },
  {
   "cell_type": "code",
   "execution_count": 2,
   "metadata": {},
   "outputs": [],
   "source": [
    "# uses several functions from pyPMIscore (generation of conformers, energy minimization)\n",
    "sys.path.append('../pyPMIscore')\n",
    "from pyPMIscore import mmff_opt_confs"
   ]
  },
  {
   "cell_type": "code",
   "execution_count": 3,
   "metadata": {},
   "outputs": [],
   "source": [
    "# selected_set.sdf - 500 protein-bound structures of fragment-like small molecules,\n",
    "# extracted from PDB Ligand Expo as a ECFP4-based diversity set. Just for the test."
   ]
  },
  {
   "cell_type": "code",
   "execution_count": 4,
   "metadata": {},
   "outputs": [],
   "source": [
    "lib = Chem.SDMolSupplier('selected_set.sdf')"
   ]
  },
  {
   "cell_type": "code",
   "execution_count": 5,
   "metadata": {},
   "outputs": [],
   "source": [
    "def conformer_energy(mol):\n",
    "    '''Minimizes conformation and returns its energy.\n",
    "    Dangerous! Very poor exception handling'''\n",
    "    try:\n",
    "        mol_ff_param = AllChem.MMFFGetMoleculeProperties(mol)\n",
    "        ff = AllChem.MMFFGetMoleculeForceField(mol, mol_ff_param)\n",
    "        convergence = ff.Minimize(maxIts=1000)\n",
    "        min_energy = ff.CalcEnergy()\n",
    "        if convergence != 0:\n",
    "            min_energy = None\n",
    "        return min_energy\n",
    "    except:\n",
    "        pass"
   ]
  },
  {
   "cell_type": "code",
   "execution_count": 6,
   "metadata": {},
   "outputs": [],
   "source": [
    "lib_deltaE = list()\n",
    "for mol in lib:\n",
    "    molh = Chem.AddHs(mol, addCoords = True)\n",
    "    energy = conformer_energy(molh)\n",
    "    if energy is None:\n",
    "        continue\n",
    "    else:\n",
    "        lib_deltaE.append(energy - min(mmff_opt_confs(molh)[1])[1])"
   ]
  },
  {
   "cell_type": "code",
   "execution_count": 24,
   "metadata": {},
   "outputs": [
    {
     "data": {
      "text/plain": [
       "Text(0.5, 0, 'Energy (kcal/mol)')"
      ]
     },
     "execution_count": 24,
     "metadata": {},
     "output_type": "execute_result"
    },
    {
     "data": {
      "image/png": "[encoded data removed]",
      "text/plain": [
       "<Figure size 432x288 with 1 Axes>"
      ]
     },
     "metadata": {
      "needs_background": "light"
     },
     "output_type": "display_data"
    }
   ],
   "source": [
    "plt.rcParams.update({'font.size': 16})\n",
    "plt.hist(lib_deltaE, bins=8)\n",
    "plt.ylabel(\"Fragments\")\n",
    "plt.xlabel(\"Energy (kcal/mol)\")"
   ]
  },
  {
   "cell_type": "code",
   "execution_count": 22,
   "metadata": {},
   "outputs": [
    {
     "data": {
      "text/plain": [
       "493"
      ]
     },
     "execution_count": 22,
     "metadata": {},
     "output_type": "execute_result"
    }
   ],
   "source": [
    "len(lib_deltaE)"
   ]
  },
  {
   "cell_type": "code",
   "execution_count": 40,
   "metadata": {
    "scrolled": true
   },
   "outputs": [
    {
     "name": "stdout",
     "output_type": "stream",
     "text": [
      "-0.409744920883753 9.195634621019336\n"
     ]
    }
   ],
   "source": [
    "print(np.percentile(lib_deltaE, 5),np.percentile(lib_deltaE, 95))"
   ]
  }
 ],
 "metadata": {
  "kernelspec": {
   "display_name": "Python 3",
   "language": "python",
   "name": "python3"
  },
  "language_info": {
   "codemirror_mode": {
    "name": "ipython",
    "version": 3
   },
   "file_extension": ".py",
   "mimetype": "text/x-python",
   "name": "python",
   "nbconvert_exporter": "python",
   "pygments_lexer": "ipython3",
   "version": "3.6.10"
  }
 },
 "nbformat": 4,
 "nbformat_minor": 4
}
